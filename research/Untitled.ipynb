{
 "cells": [
  {
   "cell_type": "code",
   "execution_count": 1,
   "id": "41496271",
   "metadata": {},
   "outputs": [
    {
     "name": "stdout",
     "output_type": "stream",
     "text": [
      "Requirement already satisfied: torch in /Users/rajeshgolchha/anaconda3/lib/python3.11/site-packages (2.2.2)\n",
      "Requirement already satisfied: filelock in /Users/rajeshgolchha/anaconda3/lib/python3.11/site-packages (from torch) (3.9.0)\n",
      "Requirement already satisfied: typing-extensions>=4.8.0 in /Users/rajeshgolchha/anaconda3/lib/python3.11/site-packages (from torch) (4.11.0)\n",
      "Requirement already satisfied: sympy in /Users/rajeshgolchha/anaconda3/lib/python3.11/site-packages (from torch) (1.11.1)\n",
      "Requirement already satisfied: networkx in /Users/rajeshgolchha/anaconda3/lib/python3.11/site-packages (from torch) (3.1)\n",
      "Requirement already satisfied: jinja2 in /Users/rajeshgolchha/anaconda3/lib/python3.11/site-packages (from torch) (3.1.2)\n",
      "Requirement already satisfied: fsspec in /Users/rajeshgolchha/anaconda3/lib/python3.11/site-packages (from torch) (2023.4.0)\n",
      "Requirement already satisfied: MarkupSafe>=2.0 in /Users/rajeshgolchha/anaconda3/lib/python3.11/site-packages (from jinja2->torch) (2.1.1)\n",
      "Requirement already satisfied: mpmath>=0.19 in /Users/rajeshgolchha/anaconda3/lib/python3.11/site-packages (from sympy->torch) (1.3.0)\n"
     ]
    }
   ],
   "source": [
    "!pip install torch\n",
    "import torch"
   ]
  },
  {
   "cell_type": "code",
   "execution_count": 3,
   "id": "be143b1c",
   "metadata": {},
   "outputs": [
    {
     "name": "stdout",
     "output_type": "stream",
     "text": [
      "fatal: destination path 'yolov5' already exists and is not an empty directory.\r\n"
     ]
    }
   ],
   "source": [
    "!git clone https://github.com/ultralytics/yolov5"
   ]
  },
  {
   "cell_type": "code",
   "execution_count": 4,
   "id": "b2c579a9",
   "metadata": {},
   "outputs": [
    {
     "name": "stdout",
     "output_type": "stream",
     "text": [
      "/Users/rajeshgolchha/Desktop/research/yolov5\n"
     ]
    }
   ],
   "source": [
    "%cd yolov5 "
   ]
  },
  {
   "cell_type": "code",
   "execution_count": 5,
   "id": "763c4a2a",
   "metadata": {},
   "outputs": [
    {
     "name": "stdout",
     "output_type": "stream",
     "text": [
      "Requirement already satisfied: gitpython>=3.1.30 in /Users/rajeshgolchha/anaconda3/lib/python3.11/site-packages (from -r requirements.txt (line 5)) (3.1.43)\n",
      "Requirement already satisfied: matplotlib>=3.3 in /Users/rajeshgolchha/anaconda3/lib/python3.11/site-packages (from -r requirements.txt (line 6)) (3.7.2)\n",
      "Requirement already satisfied: numpy>=1.23.5 in /Users/rajeshgolchha/anaconda3/lib/python3.11/site-packages (from -r requirements.txt (line 7)) (1.24.3)\n",
      "Requirement already satisfied: opencv-python>=4.1.1 in /Users/rajeshgolchha/anaconda3/lib/python3.11/site-packages (from -r requirements.txt (line 8)) (4.9.0.80)\n",
      "Requirement already satisfied: pillow>=10.3.0 in /Users/rajeshgolchha/anaconda3/lib/python3.11/site-packages (from -r requirements.txt (line 9)) (10.3.0)\n",
      "Requirement already satisfied: psutil in /Users/rajeshgolchha/anaconda3/lib/python3.11/site-packages (from -r requirements.txt (line 10)) (5.9.0)\n",
      "Requirement already satisfied: PyYAML>=5.3.1 in /Users/rajeshgolchha/anaconda3/lib/python3.11/site-packages (from -r requirements.txt (line 11)) (6.0)\n",
      "Requirement already satisfied: requests>=2.23.0 in /Users/rajeshgolchha/anaconda3/lib/python3.11/site-packages (from -r requirements.txt (line 12)) (2.31.0)\n",
      "Requirement already satisfied: scipy>=1.4.1 in /Users/rajeshgolchha/anaconda3/lib/python3.11/site-packages (from -r requirements.txt (line 13)) (1.11.1)\n",
      "Requirement already satisfied: thop>=0.1.1 in /Users/rajeshgolchha/anaconda3/lib/python3.11/site-packages (from -r requirements.txt (line 14)) (0.1.1.post2209072238)\n",
      "Requirement already satisfied: torch>=1.8.0 in /Users/rajeshgolchha/anaconda3/lib/python3.11/site-packages (from -r requirements.txt (line 15)) (2.2.2)\n",
      "Requirement already satisfied: torchvision>=0.9.0 in /Users/rajeshgolchha/anaconda3/lib/python3.11/site-packages (from -r requirements.txt (line 16)) (0.17.2)\n",
      "Requirement already satisfied: tqdm>=4.64.0 in /Users/rajeshgolchha/anaconda3/lib/python3.11/site-packages (from -r requirements.txt (line 17)) (4.65.0)\n",
      "Requirement already satisfied: ultralytics>=8.0.232 in /Users/rajeshgolchha/anaconda3/lib/python3.11/site-packages (from -r requirements.txt (line 18)) (8.1.45)\n",
      "Requirement already satisfied: pandas>=1.1.4 in /Users/rajeshgolchha/anaconda3/lib/python3.11/site-packages (from -r requirements.txt (line 27)) (2.0.3)\n",
      "Requirement already satisfied: seaborn>=0.11.0 in /Users/rajeshgolchha/anaconda3/lib/python3.11/site-packages (from -r requirements.txt (line 28)) (0.12.2)\n",
      "Requirement already satisfied: setuptools>=65.5.1 in /Users/rajeshgolchha/anaconda3/lib/python3.11/site-packages (from -r requirements.txt (line 42)) (68.0.0)\n",
      "Requirement already satisfied: wheel>=0.38.0 in /Users/rajeshgolchha/anaconda3/lib/python3.11/site-packages (from -r requirements.txt (line 50)) (0.38.4)\n",
      "Requirement already satisfied: gitdb<5,>=4.0.1 in /Users/rajeshgolchha/anaconda3/lib/python3.11/site-packages (from gitpython>=3.1.30->-r requirements.txt (line 5)) (4.0.11)\n",
      "Requirement already satisfied: contourpy>=1.0.1 in /Users/rajeshgolchha/anaconda3/lib/python3.11/site-packages (from matplotlib>=3.3->-r requirements.txt (line 6)) (1.0.5)\n",
      "Requirement already satisfied: cycler>=0.10 in /Users/rajeshgolchha/anaconda3/lib/python3.11/site-packages (from matplotlib>=3.3->-r requirements.txt (line 6)) (0.11.0)\n",
      "Requirement already satisfied: fonttools>=4.22.0 in /Users/rajeshgolchha/anaconda3/lib/python3.11/site-packages (from matplotlib>=3.3->-r requirements.txt (line 6)) (4.25.0)\n",
      "Requirement already satisfied: kiwisolver>=1.0.1 in /Users/rajeshgolchha/anaconda3/lib/python3.11/site-packages (from matplotlib>=3.3->-r requirements.txt (line 6)) (1.4.4)\n",
      "Requirement already satisfied: packaging>=20.0 in /Users/rajeshgolchha/anaconda3/lib/python3.11/site-packages (from matplotlib>=3.3->-r requirements.txt (line 6)) (23.1)\n",
      "Requirement already satisfied: pyparsing<3.1,>=2.3.1 in /Users/rajeshgolchha/anaconda3/lib/python3.11/site-packages (from matplotlib>=3.3->-r requirements.txt (line 6)) (3.0.9)\n",
      "Requirement already satisfied: python-dateutil>=2.7 in /Users/rajeshgolchha/anaconda3/lib/python3.11/site-packages (from matplotlib>=3.3->-r requirements.txt (line 6)) (2.8.2)\n",
      "Requirement already satisfied: charset-normalizer<4,>=2 in /Users/rajeshgolchha/anaconda3/lib/python3.11/site-packages (from requests>=2.23.0->-r requirements.txt (line 12)) (2.0.4)\n",
      "Requirement already satisfied: idna<4,>=2.5 in /Users/rajeshgolchha/anaconda3/lib/python3.11/site-packages (from requests>=2.23.0->-r requirements.txt (line 12)) (3.4)\n",
      "Requirement already satisfied: urllib3<3,>=1.21.1 in /Users/rajeshgolchha/anaconda3/lib/python3.11/site-packages (from requests>=2.23.0->-r requirements.txt (line 12)) (1.26.16)\n",
      "Requirement already satisfied: certifi>=2017.4.17 in /Users/rajeshgolchha/anaconda3/lib/python3.11/site-packages (from requests>=2.23.0->-r requirements.txt (line 12)) (2023.7.22)\n",
      "Requirement already satisfied: filelock in /Users/rajeshgolchha/anaconda3/lib/python3.11/site-packages (from torch>=1.8.0->-r requirements.txt (line 15)) (3.9.0)\n",
      "Requirement already satisfied: typing-extensions>=4.8.0 in /Users/rajeshgolchha/anaconda3/lib/python3.11/site-packages (from torch>=1.8.0->-r requirements.txt (line 15)) (4.11.0)\n",
      "Requirement already satisfied: sympy in /Users/rajeshgolchha/anaconda3/lib/python3.11/site-packages (from torch>=1.8.0->-r requirements.txt (line 15)) (1.11.1)\n",
      "Requirement already satisfied: networkx in /Users/rajeshgolchha/anaconda3/lib/python3.11/site-packages (from torch>=1.8.0->-r requirements.txt (line 15)) (3.1)\n",
      "Requirement already satisfied: jinja2 in /Users/rajeshgolchha/anaconda3/lib/python3.11/site-packages (from torch>=1.8.0->-r requirements.txt (line 15)) (3.1.2)\n",
      "Requirement already satisfied: fsspec in /Users/rajeshgolchha/anaconda3/lib/python3.11/site-packages (from torch>=1.8.0->-r requirements.txt (line 15)) (2023.4.0)\n",
      "Requirement already satisfied: py-cpuinfo in /Users/rajeshgolchha/anaconda3/lib/python3.11/site-packages (from ultralytics>=8.0.232->-r requirements.txt (line 18)) (8.0.0)\n",
      "Requirement already satisfied: pytz>=2020.1 in /Users/rajeshgolchha/anaconda3/lib/python3.11/site-packages (from pandas>=1.1.4->-r requirements.txt (line 27)) (2023.3.post1)\n",
      "Requirement already satisfied: tzdata>=2022.1 in /Users/rajeshgolchha/anaconda3/lib/python3.11/site-packages (from pandas>=1.1.4->-r requirements.txt (line 27)) (2023.3)\n",
      "Requirement already satisfied: smmap<6,>=3.0.1 in /Users/rajeshgolchha/anaconda3/lib/python3.11/site-packages (from gitdb<5,>=4.0.1->gitpython>=3.1.30->-r requirements.txt (line 5)) (5.0.1)\n",
      "Requirement already satisfied: six>=1.5 in /Users/rajeshgolchha/anaconda3/lib/python3.11/site-packages (from python-dateutil>=2.7->matplotlib>=3.3->-r requirements.txt (line 6)) (1.16.0)\n",
      "Requirement already satisfied: MarkupSafe>=2.0 in /Users/rajeshgolchha/anaconda3/lib/python3.11/site-packages (from jinja2->torch>=1.8.0->-r requirements.txt (line 15)) (2.1.1)\n",
      "Requirement already satisfied: mpmath>=0.19 in /Users/rajeshgolchha/anaconda3/lib/python3.11/site-packages (from sympy->torch>=1.8.0->-r requirements.txt (line 15)) (1.3.0)\n"
     ]
    }
   ],
   "source": [
    "!pip install -r requirements.txt"
   ]
  },
  {
   "cell_type": "code",
   "execution_count": 6,
   "id": "dec62e82",
   "metadata": {
    "scrolled": true
   },
   "outputs": [
    {
     "name": "stdout",
     "output_type": "stream",
     "text": [
      "\u001b[34m\u001b[1mtrain: \u001b[0mweights=yolov5s.pt, cfg=, data=data5.yaml, hyp=data/hyps/hyp.scratch-low.yaml, epochs=30, batch_size=16, imgsz=415, rect=False, resume=False, nosave=False, noval=False, noautoanchor=False, noplots=False, evolve=None, evolve_population=data/hyps, resume_evolve=None, bucket=, cache=ram, image_weights=False, device=, multi_scale=False, single_cls=False, optimizer=SGD, sync_bn=False, workers=8, project=runs/train, name=exp, exist_ok=False, quad=False, cos_lr=False, label_smoothing=0.0, patience=100, freeze=[0], save_period=-1, seed=0, local_rank=-1, entity=None, upload_dataset=False, bbox_interval=-1, artifact_alias=latest, ndjson_console=False, ndjson_file=False\n",
      "remote: Enumerating objects: 3, done.\u001b[K\n",
      "remote: Counting objects: 100% (3/3), done.\u001b[K\n",
      "remote: Compressing objects: 100% (3/3), done.\u001b[K\n",
      "remote: Total 3 (delta 0), reused 1 (delta 0), pack-reused 0\u001b[K\n",
      "Unpacking objects: 100% (3/3), 2.41 KiB | 616.00 KiB/s, done.\n",
      "From https://github.com/ultralytics/yolov5\n",
      " * [new branch]        snyk-fix-18f3677f1c86501ef9d2b0c1b34d6fc9 -> origin/snyk-fix-18f3677f1c86501ef9d2b0c1b34d6fc9\n",
      "\u001b[34m\u001b[1mgithub: \u001b[0m⚠️ YOLOv5 is out of date by 8 commits. Use 'git pull' or 'git clone https://github.com/ultralytics/yolov5' to update.\n",
      "YOLOv5 🚀 v7.0-296-gae4ef3b2 Python-3.11.5 torch-2.2.2 CPU\n",
      "\n",
      "\u001b[34m\u001b[1mhyperparameters: \u001b[0mlr0=0.01, lrf=0.01, momentum=0.937, weight_decay=0.0005, warmup_epochs=3.0, warmup_momentum=0.8, warmup_bias_lr=0.1, box=0.05, cls=0.5, cls_pw=1.0, obj=1.0, obj_pw=1.0, iou_t=0.2, anchor_t=4.0, fl_gamma=0.0, hsv_h=0.015, hsv_s=0.7, hsv_v=0.4, degrees=0.0, translate=0.1, scale=0.5, shear=0.0, perspective=0.0, flipud=0.0, fliplr=0.5, mosaic=1.0, mixup=0.0, copy_paste=0.0\n",
      "\u001b[34m\u001b[1mComet: \u001b[0mrun 'pip install comet_ml' to automatically track and visualize YOLOv5 🚀 runs in Comet\n",
      "\u001b[34m\u001b[1mTensorBoard: \u001b[0mStart with 'tensorboard --logdir runs/train', view at http://localhost:6006/\n",
      "Overriding model.yaml nc=80 with nc=2\n",
      "\n",
      "                 from  n    params  module                                  arguments                     \n",
      "  0                -1  1      3520  models.common.Conv                      [3, 32, 6, 2, 2]              \n",
      "  1                -1  1     18560  models.common.Conv                      [32, 64, 3, 2]                \n",
      "  2                -1  1     18816  models.common.C3                        [64, 64, 1]                   \n",
      "  3                -1  1     73984  models.common.Conv                      [64, 128, 3, 2]               \n",
      "  4                -1  2    115712  models.common.C3                        [128, 128, 2]                 \n",
      "  5                -1  1    295424  models.common.Conv                      [128, 256, 3, 2]              \n",
      "  6                -1  3    625152  models.common.C3                        [256, 256, 3]                 \n",
      "  7                -1  1   1180672  models.common.Conv                      [256, 512, 3, 2]              \n",
      "  8                -1  1   1182720  models.common.C3                        [512, 512, 1]                 \n",
      "  9                -1  1    656896  models.common.SPPF                      [512, 512, 5]                 \n",
      " 10                -1  1    131584  models.common.Conv                      [512, 256, 1, 1]              \n",
      " 11                -1  1         0  torch.nn.modules.upsampling.Upsample    [None, 2, 'nearest']          \n",
      " 12           [-1, 6]  1         0  models.common.Concat                    [1]                           \n",
      " 13                -1  1    361984  models.common.C3                        [512, 256, 1, False]          \n",
      " 14                -1  1     33024  models.common.Conv                      [256, 128, 1, 1]              \n",
      " 15                -1  1         0  torch.nn.modules.upsampling.Upsample    [None, 2, 'nearest']          \n",
      " 16           [-1, 4]  1         0  models.common.Concat                    [1]                           \n",
      " 17                -1  1     90880  models.common.C3                        [256, 128, 1, False]          \n",
      " 18                -1  1    147712  models.common.Conv                      [128, 128, 3, 2]              \n",
      " 19          [-1, 14]  1         0  models.common.Concat                    [1]                           \n",
      " 20                -1  1    296448  models.common.C3                        [256, 256, 1, False]          \n",
      " 21                -1  1    590336  models.common.Conv                      [256, 256, 3, 2]              \n",
      " 22          [-1, 10]  1         0  models.common.Concat                    [1]                           \n",
      " 23                -1  1   1182720  models.common.C3                        [512, 512, 1, False]          \n",
      " 24      [17, 20, 23]  1     18879  models.yolo.Detect                      [2, [[10, 13, 16, 30, 33, 23], [30, 61, 62, 45, 59, 119], [116, 90, 156, 198, 373, 326]], [128, 256, 512]]\n",
      "Model summary: 214 layers, 7025023 parameters, 7025023 gradients, 16.0 GFLOPs\n",
      "\n",
      "Transferred 343/349 items from yolov5s.pt\n",
      "WARNING ⚠️ --img-size 415 must be multiple of max stride 32, updating to 416\n",
      "\u001b[34m\u001b[1moptimizer:\u001b[0m SGD(lr=0.01) with parameter groups 57 weight(decay=0.0), 60 weight(decay=0.0005), 60 bias\n",
      "\u001b[34m\u001b[1mtrain: \u001b[0mScanning /Users/rajeshgolchha/Desktop/research/dataset5/train/labels... 5\u001b[0m\n",
      "\u001b[34m\u001b[1mtrain: \u001b[0mNew cache created: /Users/rajeshgolchha/Desktop/research/dataset5/train/labels.cache\n",
      "\u001b[34m\u001b[1mtrain: \u001b[0mCaching images (0.3GB ram): 100%|██████████| 592/592 [00:01<00:00, 409.25\u001b[0m\n",
      "\u001b[34m\u001b[1mval: \u001b[0mScanning /Users/rajeshgolchha/Desktop/research/dataset5/valid/labels... 61 \u001b[0m\n",
      "\u001b[34m\u001b[1mval: \u001b[0mNew cache created: /Users/rajeshgolchha/Desktop/research/dataset5/valid/labels.cache\n",
      "\u001b[34m\u001b[1mval: \u001b[0mCaching images (0.0GB ram): 100%|██████████| 61/61 [00:00<00:00, 282.65it/s\u001b[0m\n",
      "\n",
      "\u001b[34m\u001b[1mAutoAnchor: \u001b[0m3.07 anchors/target, 1.000 Best Possible Recall (BPR). Current anchors are a good fit to dataset ✅\n",
      "Plotting labels to runs/train/exp/labels.jpg... \n",
      "Image sizes 416 train, 416 val\n",
      "Using 4 dataloader workers\n",
      "Logging results to \u001b[1mruns/train/exp\u001b[0m\n",
      "Starting training for 30 epochs...\n",
      "\n",
      "      Epoch    GPU_mem   box_loss   obj_loss   cls_loss  Instances       Size\n",
      "       0/29         0G    0.09234    0.02398    0.02696         54        416: 1\n",
      "                 Class     Images  Instances          P          R      mAP50   \n",
      "                   all         61         76     0.0726      0.271     0.0793     0.0305\n",
      "\n",
      "      Epoch    GPU_mem   box_loss   obj_loss   cls_loss  Instances       Size\n",
      "       1/29         0G    0.06088    0.02627    0.02455         58        416: 1\n",
      "                 Class     Images  Instances          P          R      mAP50   \n",
      "                   all         61         76      0.186      0.474      0.293      0.121\n",
      "\n",
      "      Epoch    GPU_mem   box_loss   obj_loss   cls_loss  Instances       Size\n",
      "       2/29         0G    0.05335    0.02246    0.02323         47        416: 1\n",
      "                 Class     Images  Instances          P          R      mAP50   \n",
      "                   all         61         76      0.314      0.557      0.351      0.134\n",
      "\n",
      "      Epoch    GPU_mem   box_loss   obj_loss   cls_loss  Instances       Size\n",
      "       3/29         0G    0.04904     0.0212     0.0232         47        416: 1\n",
      "                 Class     Images  Instances          P          R      mAP50   \n",
      "                   all         61         76       0.34      0.675      0.453      0.197\n",
      "\n",
      "      Epoch    GPU_mem   box_loss   obj_loss   cls_loss  Instances       Size\n",
      "       4/29         0G    0.04501    0.02056     0.0217         50        416: 1\n",
      "                 Class     Images  Instances          P          R      mAP50   \n",
      "                   all         61         76      0.257      0.511      0.318      0.147\n",
      "\n",
      "      Epoch    GPU_mem   box_loss   obj_loss   cls_loss  Instances       Size\n",
      "       5/29         0G    0.04092    0.01949    0.02213         38        416: 1\n",
      "                 Class     Images  Instances          P          R      mAP50   \n",
      "                   all         61         76      0.362      0.611      0.475      0.224\n",
      "\n",
      "      Epoch    GPU_mem   box_loss   obj_loss   cls_loss  Instances       Size\n",
      "       6/29         0G    0.03926    0.01835    0.02228         48        416: 1\n"
     ]
    },
    {
     "name": "stdout",
     "output_type": "stream",
     "text": [
      "                 Class     Images  Instances          P          R      mAP50   \n",
      "                   all         61         76      0.406      0.671      0.489      0.214\n",
      "\n",
      "      Epoch    GPU_mem   box_loss   obj_loss   cls_loss  Instances       Size\n",
      "       7/29         0G    0.03903    0.01877    0.02286         50        416: 1\n",
      "                 Class     Images  Instances          P          R      mAP50   \n",
      "                   all         61         76      0.449      0.863      0.541      0.312\n",
      "\n",
      "      Epoch    GPU_mem   box_loss   obj_loss   cls_loss  Instances       Size\n",
      "       8/29         0G    0.03462    0.01782    0.02296         53        416: 1\n",
      "                 Class     Images  Instances          P          R      mAP50   \n",
      "                   all         61         76      0.437      0.741      0.539      0.293\n",
      "\n",
      "      Epoch    GPU_mem   box_loss   obj_loss   cls_loss  Instances       Size\n",
      "       9/29         0G    0.03533    0.01795    0.02328         41        416: 1\n",
      "                 Class     Images  Instances          P          R      mAP50   \n",
      "                   all         61         76      0.499      0.854      0.588      0.329\n",
      "\n",
      "      Epoch    GPU_mem   box_loss   obj_loss   cls_loss  Instances       Size\n",
      "      10/29         0G     0.0336    0.01715    0.02265         43        416: 1\n",
      "                 Class     Images  Instances          P          R      mAP50   \n",
      "                   all         61         76       0.49      0.801      0.583       0.34\n",
      "\n",
      "      Epoch    GPU_mem   box_loss   obj_loss   cls_loss  Instances       Size\n",
      "      11/29         0G    0.03264    0.01764    0.02278         38        416: 1\n",
      "                 Class     Images  Instances          P          R      mAP50   \n",
      "                   all         61         76      0.482      0.798      0.538      0.254\n",
      "\n",
      "      Epoch    GPU_mem   box_loss   obj_loss   cls_loss  Instances       Size\n",
      "      12/29         0G    0.03091    0.01646    0.02261         46        416: 1\n",
      "                 Class     Images  Instances          P          R      mAP50   \n",
      "                   all         61         76      0.506      0.869       0.62      0.333\n",
      "\n",
      "      Epoch    GPU_mem   box_loss   obj_loss   cls_loss  Instances       Size\n",
      "      13/29         0G    0.02934    0.01666    0.02114         41        416: 1\n",
      "                 Class     Images  Instances          P          R      mAP50   \n",
      "                   all         61         76      0.502      0.894      0.635      0.329\n",
      "\n",
      "      Epoch    GPU_mem   box_loss   obj_loss   cls_loss  Instances       Size\n",
      "      14/29         0G    0.02987    0.01612    0.02287         45        416: 1\n",
      "                 Class     Images  Instances          P          R      mAP50   \n",
      "                   all         61         76      0.537      0.704      0.642       0.32\n",
      "\n",
      "      Epoch    GPU_mem   box_loss   obj_loss   cls_loss  Instances       Size\n",
      "      15/29         0G    0.02774    0.01572    0.02197         41        416: 1\n",
      "                 Class     Images  Instances          P          R      mAP50   \n",
      "                   all         61         76      0.493      0.852      0.619      0.314\n",
      "\n",
      "      Epoch    GPU_mem   box_loss   obj_loss   cls_loss  Instances       Size\n",
      "      16/29         0G    0.02788    0.01587    0.02023         49        416: 1\n",
      "                 Class     Images  Instances          P          R      mAP50   \n",
      "                   all         61         76      0.514      0.836      0.628      0.349\n",
      "\n",
      "      Epoch    GPU_mem   box_loss   obj_loss   cls_loss  Instances       Size\n",
      "      17/29         0G    0.02745    0.01501    0.01972         46        416: 1\n",
      "                 Class     Images  Instances          P          R      mAP50   \n",
      "                   all         61         76       0.48      0.742      0.602      0.322\n",
      "\n",
      "      Epoch    GPU_mem   box_loss   obj_loss   cls_loss  Instances       Size\n",
      "      18/29         0G    0.02666    0.01541    0.02093         45        416: 1\n",
      "                 Class     Images  Instances          P          R      mAP50   \n",
      "                   all         61         76      0.634      0.711      0.665      0.361\n",
      "\n",
      "      Epoch    GPU_mem   box_loss   obj_loss   cls_loss  Instances       Size\n",
      "      19/29         0G    0.02616    0.01487    0.01819         47        416: 1\n",
      "                 Class     Images  Instances          P          R      mAP50   \n",
      "                   all         61         76      0.635      0.683      0.703      0.374\n",
      "\n",
      "      Epoch    GPU_mem   box_loss   obj_loss   cls_loss  Instances       Size\n",
      "      20/29         0G    0.02703    0.01489    0.01877         48        416: 1\n",
      "                 Class     Images  Instances          P          R      mAP50   \n",
      "                   all         61         76      0.716      0.645      0.674      0.336\n",
      "\n",
      "      Epoch    GPU_mem   box_loss   obj_loss   cls_loss  Instances       Size\n",
      "      21/29         0G    0.02467    0.01444    0.01783         49        416: 1\n",
      "                 Class     Images  Instances          P          R      mAP50   \n",
      "                   all         61         76      0.525      0.748      0.643      0.327\n",
      "\n",
      "      Epoch    GPU_mem   box_loss   obj_loss   cls_loss  Instances       Size\n",
      "      22/29         0G     0.0227    0.01369     0.0166         43        416: 1\n",
      "                 Class     Images  Instances          P          R      mAP50   \n",
      "                   all         61         76      0.588      0.685       0.69      0.362\n",
      "\n",
      "      Epoch    GPU_mem   box_loss   obj_loss   cls_loss  Instances       Size\n",
      "      23/29         0G    0.02518    0.01433    0.01692         50        416: 1\n",
      "                 Class     Images  Instances          P          R      mAP50   \n",
      "                   all         61         76      0.522      0.776      0.606      0.336\n",
      "\n",
      "      Epoch    GPU_mem   box_loss   obj_loss   cls_loss  Instances       Size\n",
      "      24/29         0G    0.02264    0.01406    0.01551         40        416: 1\n",
      "                 Class     Images  Instances          P          R      mAP50   \n",
      "                   all         61         76      0.546      0.883      0.666      0.356\n",
      "\n",
      "      Epoch    GPU_mem   box_loss   obj_loss   cls_loss  Instances       Size\n",
      "      25/29         0G    0.02298    0.01369    0.01676         44        416: 1\n",
      "                 Class     Images  Instances          P          R      mAP50   \n",
      "                   all         61         76       0.53      0.829      0.684      0.371\n",
      "\n",
      "      Epoch    GPU_mem   box_loss   obj_loss   cls_loss  Instances       Size\n",
      "      26/29         0G    0.02432    0.01407    0.01621         50        416: 1\n",
      "                 Class     Images  Instances          P          R      mAP50   \n",
      "                   all         61         76      0.533      0.856      0.709      0.358\n",
      "\n",
      "      Epoch    GPU_mem   box_loss   obj_loss   cls_loss  Instances       Size\n",
      "      27/29         0G    0.02234    0.01322    0.01533         37        416: 1\n",
      "                 Class     Images  Instances          P          R      mAP50   \n",
      "                   all         61         76      0.551      0.841       0.69      0.375\n",
      "\n",
      "      Epoch    GPU_mem   box_loss   obj_loss   cls_loss  Instances       Size\n",
      "      28/29         0G    0.02292    0.01389    0.01336         46        416: 1\n",
      "                 Class     Images  Instances          P          R      mAP50   \n",
      "                   all         61         76      0.599      0.791      0.705      0.383\n",
      "\n",
      "      Epoch    GPU_mem   box_loss   obj_loss   cls_loss  Instances       Size\n",
      "      29/29         0G    0.02063    0.01277    0.01295         41        416: 1\n",
      "                 Class     Images  Instances          P          R      mAP50   \n",
      "                   all         61         76      0.627      0.754      0.698      0.365\n",
      "\n",
      "30 epochs completed in 3.467 hours.\n",
      "Optimizer stripped from runs/train/exp/weights/last.pt, 14.3MB\n",
      "Optimizer stripped from runs/train/exp/weights/best.pt, 14.3MB\n",
      "\n",
      "Validating runs/train/exp/weights/best.pt...\n",
      "Fusing layers... \n",
      "Model summary: 157 layers, 7015519 parameters, 0 gradients, 15.8 GFLOPs\n",
      "                 Class     Images  Instances          P          R      mAP50   \n",
      "                   all         61         76      0.597      0.788      0.706      0.383\n",
      "            noSeatbelt         61         23      0.419      0.689      0.567      0.312\n",
      "              seatbelt         61         53      0.776      0.887      0.845      0.454\n"
     ]
    },
    {
     "name": "stdout",
     "output_type": "stream",
     "text": [
      "Results saved to \u001b[1mruns/train/exp\u001b[0m\r\n"
     ]
    }
   ],
   "source": [
    "!python train.py --img 416 --batch 16 --epochs 30 --data data5.yaml --weights yolov5s.pt --cache"
   ]
  },
  {
   "cell_type": "code",
   "execution_count": 4,
   "id": "9cb463e4",
   "metadata": {},
   "outputs": [
    {
     "name": "stdout",
     "output_type": "stream",
     "text": [
      "Requirement already satisfied: tensorboard in /Users/rajeshgolchha/anaconda3/lib/python3.11/site-packages (2.16.2)\n",
      "Requirement already satisfied: absl-py>=0.4 in /Users/rajeshgolchha/anaconda3/lib/python3.11/site-packages (from tensorboard) (2.1.0)\n",
      "Requirement already satisfied: grpcio>=1.48.2 in /Users/rajeshgolchha/anaconda3/lib/python3.11/site-packages (from tensorboard) (1.62.1)\n",
      "Requirement already satisfied: markdown>=2.6.8 in /Users/rajeshgolchha/anaconda3/lib/python3.11/site-packages (from tensorboard) (3.4.1)\n",
      "Requirement already satisfied: numpy>=1.12.0 in /Users/rajeshgolchha/anaconda3/lib/python3.11/site-packages (from tensorboard) (1.24.3)\n",
      "Requirement already satisfied: protobuf!=4.24.0,>=3.19.6 in /Users/rajeshgolchha/anaconda3/lib/python3.11/site-packages (from tensorboard) (5.26.1)\n",
      "Requirement already satisfied: setuptools>=41.0.0 in /Users/rajeshgolchha/anaconda3/lib/python3.11/site-packages (from tensorboard) (68.0.0)\n",
      "Requirement already satisfied: six>1.9 in /Users/rajeshgolchha/anaconda3/lib/python3.11/site-packages (from tensorboard) (1.16.0)\n",
      "Requirement already satisfied: tensorboard-data-server<0.8.0,>=0.7.0 in /Users/rajeshgolchha/anaconda3/lib/python3.11/site-packages (from tensorboard) (0.7.2)\n",
      "Requirement already satisfied: werkzeug>=1.0.1 in /Users/rajeshgolchha/anaconda3/lib/python3.11/site-packages (from tensorboard) (3.0.1)\n",
      "Requirement already satisfied: MarkupSafe>=2.1.1 in /Users/rajeshgolchha/anaconda3/lib/python3.11/site-packages (from werkzeug>=1.0.1->tensorboard) (2.1.1)\n"
     ]
    }
   ],
   "source": []
  },
  {
   "cell_type": "code",
   "execution_count": 17,
   "id": "f75ad301",
   "metadata": {},
   "outputs": [
    {
     "data": {
      "text/html": [
       "\n",
       "      <iframe id=\"tensorboard-frame-21fdc6de11e43576\" width=\"100%\" height=\"800\" frameborder=\"0\">\n",
       "      </iframe>\n",
       "      <script>\n",
       "        (function() {\n",
       "          const frame = document.getElementById(\"tensorboard-frame-21fdc6de11e43576\");\n",
       "          const url = new URL(\"/\", window.location);\n",
       "          const port = 6006;\n",
       "          if (port) {\n",
       "            url.port = port;\n",
       "          }\n",
       "          frame.src = url;\n",
       "        })();\n",
       "      </script>\n",
       "    "
      ],
      "text/plain": [
       "<IPython.core.display.HTML object>"
      ]
     },
     "metadata": {},
     "output_type": "display_data"
    }
   ],
   "source": [
    "%load_ext tensorboard\n",
    "%tensorboard --logdir runs"
   ]
  },
  {
   "cell_type": "code",
   "execution_count": null,
   "id": "a4b417ab",
   "metadata": {},
   "outputs": [],
   "source": []
  }
 ],
 "metadata": {
  "kernelspec": {
   "display_name": "Python 3 (ipykernel)",
   "language": "python",
   "name": "python3"
  },
  "language_info": {
   "codemirror_mode": {
    "name": "ipython",
    "version": 3
   },
   "file_extension": ".py",
   "mimetype": "text/x-python",
   "name": "python",
   "nbconvert_exporter": "python",
   "pygments_lexer": "ipython3",
   "version": "3.11.5"
  }
 },
 "nbformat": 4,
 "nbformat_minor": 5
}
